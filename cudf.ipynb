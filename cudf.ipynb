{
 "cells": [
  {
   "cell_type": "markdown",
   "id": "1233893f",
   "metadata": {},
   "source": [
    "## EDA using a GPU"
   ]
  },
  {
   "cell_type": "code",
   "execution_count": 1,
   "id": "ddcac11b",
   "metadata": {},
   "outputs": [],
   "source": [
    "#Setup and load our required modules\n",
    "import cudf as cu\n",
    "import pandas as pd\n",
    "from datetime import datetime\n",
    "import matplotlib.pyplot as pt\n",
    "%matplotlib inline"
   ]
  },
  {
   "cell_type": "code",
   "execution_count": 2,
   "id": "63c9eed0",
   "metadata": {},
   "outputs": [],
   "source": [
    "#Setup and point to our data file\n",
    "path = \"/home/david/Downloads/\"\n",
    "file = \"companies_sorted.csv\"\n",
    "filePath = path+file"
   ]
  },
  {
   "cell_type": "code",
   "execution_count": 3,
   "id": "fcd90304",
   "metadata": {},
   "outputs": [],
   "source": [
    "#Lets just capture the time we start this cell\n",
    "start = datetime.now()\n",
    "current_time = start.strftime(\"%H:%M:%S\")\n",
    "#print(\"Start Time =\", current_time)"
   ]
  },
  {
   "cell_type": "code",
   "execution_count": 4,
   "id": "26642cf3",
   "metadata": {},
   "outputs": [],
   "source": [
    "#an empty list to just organize all the test results\n",
    "tests = []"
   ]
  },
  {
   "cell_type": "markdown",
   "id": "70d34e3c",
   "metadata": {},
   "source": [
    "# Load and create a GPU based dataframe"
   ]
  },
  {
   "cell_type": "code",
   "execution_count": 5,
   "id": "f2de79b2",
   "metadata": {},
   "outputs": [],
   "source": [
    "#using CUDF and the cuda/rapids code let's read the file from disk and load\n",
    "#to a CUDF object\n",
    "df = cu.read_csv(filePath)"
   ]
  },
  {
   "cell_type": "code",
   "execution_count": 6,
   "id": "322b8e1e",
   "metadata": {
    "scrolled": true
   },
   "outputs": [
    {
     "name": "stdout",
     "output_type": "stream",
     "text": [
      "<class 'cudf.core.dataframe.DataFrame'>\n",
      "RangeIndex: 7173426 entries, 0 to 7173425\n",
      "Data columns (total 11 columns):\n",
      " #   Column                     Dtype\n",
      "---  ------                     -----\n",
      " 0   Unnamed: 0                 int64\n",
      " 1   name                       object\n",
      " 2   domain                     object\n",
      " 3   year founded               float64\n",
      " 4   industry                   object\n",
      " 5   size range                 object\n",
      " 6   locality                   object\n",
      " 7   country                    object\n",
      " 8   linkedin url               object\n",
      " 9   current employee estimate  int64\n",
      " 10  total employee estimate    int64\n",
      "dtypes: float64(1), int64(3), object(7)\n",
      "memory usage: 1.3+ GB\n"
     ]
    }
   ],
   "source": [
    "#punch out the info about the dataframe\n",
    "df.info()"
   ]
  },
  {
   "cell_type": "code",
   "execution_count": 7,
   "id": "958c3a96",
   "metadata": {},
   "outputs": [],
   "source": [
    "now = datetime.now()\n",
    "current_time = now.strftime(\"%H:%M:%S\")\n",
    "#print(\"End Time =\", current_time)\n",
    "elapsedGPU = (now - start)\n",
    "#print(\"That took : \",elapsedGPU)"
   ]
  },
  {
   "cell_type": "markdown",
   "id": "c07d2a32",
   "metadata": {},
   "source": [
    "## Load and create a traditional CPU/RAM based dataframe"
   ]
  },
  {
   "cell_type": "code",
   "execution_count": 8,
   "id": "44d11a1b",
   "metadata": {},
   "outputs": [],
   "source": [
    "start = datetime.now()\n",
    "current_time = start.strftime(\"%H:%M:%S\")\n",
    "#print(\"Start Time =\", current_time)\n",
    "pddf = pd.read_csv(filePath)"
   ]
  },
  {
   "cell_type": "code",
   "execution_count": 9,
   "id": "0af41082",
   "metadata": {},
   "outputs": [
    {
     "name": "stdout",
     "output_type": "stream",
     "text": [
      "<class 'pandas.core.frame.DataFrame'>\n",
      "RangeIndex: 7173426 entries, 0 to 7173425\n",
      "Data columns (total 11 columns):\n",
      " #   Column                     Dtype  \n",
      "---  ------                     -----  \n",
      " 0   Unnamed: 0                 int64  \n",
      " 1   name                       object \n",
      " 2   domain                     object \n",
      " 3   year founded               float64\n",
      " 4   industry                   object \n",
      " 5   size range                 object \n",
      " 6   locality                   object \n",
      " 7   country                    object \n",
      " 8   linkedin url               object \n",
      " 9   current employee estimate  int64  \n",
      " 10  total employee estimate    int64  \n",
      "dtypes: float64(1), int64(3), object(7)\n",
      "memory usage: 602.0+ MB\n"
     ]
    }
   ],
   "source": [
    "pddf.info()"
   ]
  },
  {
   "cell_type": "code",
   "execution_count": 10,
   "id": "11c406f2",
   "metadata": {},
   "outputs": [],
   "source": [
    "now = datetime.now()\n",
    "current_time = now.strftime(\"%H:%M:%S\")\n",
    "#print(\"End Time =\", current_time)\n",
    "elapsedConv = (now - start)\n",
    "result = \"CSV Read: CPU/RAM: That took : \"+ str(elapsedConv) + \" with GPU taking \" + str(elapsedGPU)\n",
    "#print(result)\n",
    "tests.append(result)"
   ]
  },
  {
   "cell_type": "markdown",
   "id": "a0e0956f",
   "metadata": {},
   "source": [
    "## Cleaning"
   ]
  },
  {
   "cell_type": "code",
   "execution_count": 11,
   "id": "e28d527c",
   "metadata": {},
   "outputs": [],
   "source": [
    "#summarize missing values and null\n",
    "start = datetime.now()\n",
    "current_time = start.strftime(\"%H:%M:%S\")\n",
    "#print(\"Start Time =\", current_time)\n",
    "\n",
    "del df['Unnamed: 0']"
   ]
  },
  {
   "cell_type": "code",
   "execution_count": 12,
   "id": "5e0477c1",
   "metadata": {},
   "outputs": [
    {
     "name": "stdout",
     "output_type": "stream",
     "text": [
      "name                               3\n",
      "domain                       1650621\n",
      "year founded                 3606980\n",
      "industry                      290003\n",
      "size range                         0\n",
      "locality                     2508825\n",
      "country                      2349207\n",
      "linkedin url                       0\n",
      "current employee estimate          0\n",
      "total employee estimate            0\n",
      "dtype: int64\n",
      " \n",
      "name -\t 7004634\n",
      "domain -\t 5474764\n",
      "year founded -\t 234\n",
      "industry -\t 148\n",
      "size range -\t 8\n",
      "locality -\t 96244\n",
      "country -\t 236\n",
      "linkedin url -\t 7173426\n",
      "current employee estimate -\t 5379\n",
      "total employee estimate -\t 8486\n"
     ]
    }
   ],
   "source": [
    "if(df.isnull().values.any()):\n",
    "    missing = df.isnull().sum()\n",
    "    print(missing)\n",
    "    print(\" \")\n",
    "    for col in df.columns:\n",
    "        print (col, \"-\\t\", df[col].nunique())\n",
    "\n",
    "\n",
    "df.dropna(axis=0,inplace=True)"
   ]
  },
  {
   "cell_type": "code",
   "execution_count": 13,
   "id": "0731ec14",
   "metadata": {},
   "outputs": [
    {
     "data": {
      "text/plain": [
       "name                         2535176\n",
       "domain                       2535176\n",
       "year founded                 2535176\n",
       "industry                     2535176\n",
       "size range                   2535176\n",
       "locality                     2535176\n",
       "country                      2535176\n",
       "linkedin url                 2535176\n",
       "current employee estimate    2535176\n",
       "total employee estimate      2535176\n",
       "dtype: int64"
      ]
     },
     "execution_count": 13,
     "metadata": {},
     "output_type": "execute_result"
    }
   ],
   "source": [
    "df.notnull().sum()"
   ]
  },
  {
   "cell_type": "code",
   "execution_count": 14,
   "id": "7b5636a8",
   "metadata": {},
   "outputs": [
    {
     "data": {
      "text/html": [
       "<div>\n",
       "<style scoped>\n",
       "    .dataframe tbody tr th:only-of-type {\n",
       "        vertical-align: middle;\n",
       "    }\n",
       "\n",
       "    .dataframe tbody tr th {\n",
       "        vertical-align: top;\n",
       "    }\n",
       "\n",
       "    .dataframe thead tr th {\n",
       "        text-align: left;\n",
       "    }\n",
       "\n",
       "    .dataframe thead tr:last-of-type th {\n",
       "        text-align: right;\n",
       "    }\n",
       "</style>\n",
       "<table border=\"1\" class=\"dataframe\">\n",
       "  <thead>\n",
       "    <tr>\n",
       "      <th></th>\n",
       "      <th colspan=\"3\" halign=\"left\">year founded</th>\n",
       "      <th>country</th>\n",
       "      <th>current employee estimate</th>\n",
       "    </tr>\n",
       "    <tr>\n",
       "      <th></th>\n",
       "      <th>min</th>\n",
       "      <th>max</th>\n",
       "      <th>count</th>\n",
       "      <th>&lt;lambda&gt;</th>\n",
       "      <th>median</th>\n",
       "    </tr>\n",
       "    <tr>\n",
       "      <th>size range</th>\n",
       "      <th></th>\n",
       "      <th></th>\n",
       "      <th></th>\n",
       "      <th></th>\n",
       "      <th></th>\n",
       "    </tr>\n",
       "  </thead>\n",
       "  <tbody>\n",
       "    <tr>\n",
       "      <th>1 - 10</th>\n",
       "      <td>1792.0</td>\n",
       "      <td>2103.0</td>\n",
       "      <td>1707032</td>\n",
       "      <td>228</td>\n",
       "      <td>1.0</td>\n",
       "    </tr>\n",
       "    <tr>\n",
       "      <th>10001+</th>\n",
       "      <td>1800.0</td>\n",
       "      <td>2016.0</td>\n",
       "      <td>1366</td>\n",
       "      <td>56</td>\n",
       "      <td>7556.5</td>\n",
       "    </tr>\n",
       "    <tr>\n",
       "      <th>1001 - 5000</th>\n",
       "      <td>1802.0</td>\n",
       "      <td>2018.0</td>\n",
       "      <td>13632</td>\n",
       "      <td>140</td>\n",
       "      <td>712.0</td>\n",
       "    </tr>\n",
       "    <tr>\n",
       "      <th>11 - 50</th>\n",
       "      <td>1801.0</td>\n",
       "      <td>2023.0</td>\n",
       "      <td>570370</td>\n",
       "      <td>216</td>\n",
       "      <td>8.0</td>\n",
       "    </tr>\n",
       "    <tr>\n",
       "      <th>201 - 500</th>\n",
       "      <td>1801.0</td>\n",
       "      <td>2018.0</td>\n",
       "      <td>43749</td>\n",
       "      <td>171</td>\n",
       "      <td>120.0</td>\n",
       "    </tr>\n",
       "    <tr>\n",
       "      <th>5001 - 10000</th>\n",
       "      <td>1451.0</td>\n",
       "      <td>2017.0</td>\n",
       "      <td>1855</td>\n",
       "      <td>75</td>\n",
       "      <td>2852.0</td>\n",
       "    </tr>\n",
       "    <tr>\n",
       "      <th>501 - 1000</th>\n",
       "      <td>1801.0</td>\n",
       "      <td>2018.0</td>\n",
       "      <td>15647</td>\n",
       "      <td>153</td>\n",
       "      <td>279.0</td>\n",
       "    </tr>\n",
       "    <tr>\n",
       "      <th>51 - 200</th>\n",
       "      <td>1799.0</td>\n",
       "      <td>2029.0</td>\n",
       "      <td>181525</td>\n",
       "      <td>197</td>\n",
       "      <td>35.0</td>\n",
       "    </tr>\n",
       "  </tbody>\n",
       "</table>\n",
       "</div>"
      ],
      "text/plain": [
       "             year founded                   country current employee estimate\n",
       "                      min     max    count <lambda>                    median\n",
       "size range                                                                   \n",
       "1 - 10             1792.0  2103.0  1707032      228                       1.0\n",
       "10001+             1800.0  2016.0     1366       56                    7556.5\n",
       "1001 - 5000        1802.0  2018.0    13632      140                     712.0\n",
       "11 - 50            1801.0  2023.0   570370      216                       8.0\n",
       "201 - 500          1801.0  2018.0    43749      171                     120.0\n",
       "5001 - 10000       1451.0  2017.0     1855       75                    2852.0\n",
       "501 - 1000         1801.0  2018.0    15647      153                     279.0\n",
       "51 - 200           1799.0  2029.0   181525      197                      35.0"
      ]
     },
     "execution_count": 14,
     "metadata": {},
     "output_type": "execute_result"
    }
   ],
   "source": [
    "df.groupby('size range').agg({'year founded': ['min', 'max', 'count'], 'country': lambda x: x.nunique(), 'current employee estimate': 'median'})"
   ]
  },
  {
   "cell_type": "code",
   "execution_count": 15,
   "id": "c53f51af",
   "metadata": {},
   "outputs": [],
   "source": [
    "now = datetime.now()\n",
    "current_time = now.strftime(\"%H:%M:%S\")\n",
    "#print(\"End Time =\", current_time)\n",
    "elapsedGPU = (now - start)\n",
    "#print(\"That took : \",elapsedGPU)"
   ]
  },
  {
   "cell_type": "code",
   "execution_count": 16,
   "id": "e8d703ca",
   "metadata": {},
   "outputs": [],
   "source": [
    "start = datetime.now()\n",
    "current_time = start.strftime(\"%H:%M:%S\")\n",
    "#print(\"Start Time =\", current_time)\n",
    "\n",
    "del pddf['Unnamed: 0']"
   ]
  },
  {
   "cell_type": "code",
   "execution_count": 17,
   "id": "e9b18eba",
   "metadata": {},
   "outputs": [
    {
     "name": "stdout",
     "output_type": "stream",
     "text": [
      "name                               3\n",
      "domain                       1650621\n",
      "year founded                 3606980\n",
      "industry                      290003\n",
      "size range                         0\n",
      "locality                     2508825\n",
      "country                      2349207\n",
      "linkedin url                       0\n",
      "current employee estimate          0\n",
      "total employee estimate            0\n",
      "dtype: int64\n",
      " \n",
      "name -\t 7004634\n",
      "domain -\t 5474764\n",
      "year founded -\t 234\n",
      "industry -\t 148\n",
      "size range -\t 8\n",
      "locality -\t 96244\n",
      "country -\t 236\n",
      "linkedin url -\t 7173426\n",
      "current employee estimate -\t 5379\n",
      "total employee estimate -\t 8486\n"
     ]
    }
   ],
   "source": [
    "if(pddf.isnull().values.any()):\n",
    "    missing = pddf.isnull().sum()\n",
    "    print(missing)\n",
    "    print(\" \")\n",
    "    for col in pddf.columns:\n",
    "        print (col, \"-\\t\", pddf[col].nunique())\n",
    "        \n",
    "pddf.dropna(axis=0,inplace=True)"
   ]
  },
  {
   "cell_type": "code",
   "execution_count": 18,
   "id": "5b60f1f3",
   "metadata": {},
   "outputs": [
    {
     "data": {
      "text/plain": [
       "name                         2535176\n",
       "domain                       2535176\n",
       "year founded                 2535176\n",
       "industry                     2535176\n",
       "size range                   2535176\n",
       "locality                     2535176\n",
       "country                      2535176\n",
       "linkedin url                 2535176\n",
       "current employee estimate    2535176\n",
       "total employee estimate      2535176\n",
       "dtype: int64"
      ]
     },
     "execution_count": 18,
     "metadata": {},
     "output_type": "execute_result"
    }
   ],
   "source": [
    "pddf.notnull().sum()"
   ]
  },
  {
   "cell_type": "code",
   "execution_count": 19,
   "id": "f0cdb325",
   "metadata": {},
   "outputs": [
    {
     "data": {
      "text/html": [
       "<div>\n",
       "<style scoped>\n",
       "    .dataframe tbody tr th:only-of-type {\n",
       "        vertical-align: middle;\n",
       "    }\n",
       "\n",
       "    .dataframe tbody tr th {\n",
       "        vertical-align: top;\n",
       "    }\n",
       "\n",
       "    .dataframe thead tr th {\n",
       "        text-align: left;\n",
       "    }\n",
       "\n",
       "    .dataframe thead tr:last-of-type th {\n",
       "        text-align: right;\n",
       "    }\n",
       "</style>\n",
       "<table border=\"1\" class=\"dataframe\">\n",
       "  <thead>\n",
       "    <tr>\n",
       "      <th></th>\n",
       "      <th colspan=\"3\" halign=\"left\">year founded</th>\n",
       "      <th>country</th>\n",
       "      <th>current employee estimate</th>\n",
       "    </tr>\n",
       "    <tr>\n",
       "      <th></th>\n",
       "      <th>min</th>\n",
       "      <th>max</th>\n",
       "      <th>count</th>\n",
       "      <th>&lt;lambda&gt;</th>\n",
       "      <th>median</th>\n",
       "    </tr>\n",
       "    <tr>\n",
       "      <th>size range</th>\n",
       "      <th></th>\n",
       "      <th></th>\n",
       "      <th></th>\n",
       "      <th></th>\n",
       "      <th></th>\n",
       "    </tr>\n",
       "  </thead>\n",
       "  <tbody>\n",
       "    <tr>\n",
       "      <th>1 - 10</th>\n",
       "      <td>1792.0</td>\n",
       "      <td>2103.0</td>\n",
       "      <td>1707032</td>\n",
       "      <td>228</td>\n",
       "      <td>1.0</td>\n",
       "    </tr>\n",
       "    <tr>\n",
       "      <th>10001+</th>\n",
       "      <td>1800.0</td>\n",
       "      <td>2016.0</td>\n",
       "      <td>1366</td>\n",
       "      <td>56</td>\n",
       "      <td>7556.5</td>\n",
       "    </tr>\n",
       "    <tr>\n",
       "      <th>1001 - 5000</th>\n",
       "      <td>1802.0</td>\n",
       "      <td>2018.0</td>\n",
       "      <td>13632</td>\n",
       "      <td>140</td>\n",
       "      <td>712.0</td>\n",
       "    </tr>\n",
       "    <tr>\n",
       "      <th>11 - 50</th>\n",
       "      <td>1801.0</td>\n",
       "      <td>2023.0</td>\n",
       "      <td>570370</td>\n",
       "      <td>216</td>\n",
       "      <td>8.0</td>\n",
       "    </tr>\n",
       "    <tr>\n",
       "      <th>201 - 500</th>\n",
       "      <td>1801.0</td>\n",
       "      <td>2018.0</td>\n",
       "      <td>43749</td>\n",
       "      <td>171</td>\n",
       "      <td>120.0</td>\n",
       "    </tr>\n",
       "    <tr>\n",
       "      <th>5001 - 10000</th>\n",
       "      <td>1451.0</td>\n",
       "      <td>2017.0</td>\n",
       "      <td>1855</td>\n",
       "      <td>75</td>\n",
       "      <td>2852.0</td>\n",
       "    </tr>\n",
       "    <tr>\n",
       "      <th>501 - 1000</th>\n",
       "      <td>1801.0</td>\n",
       "      <td>2018.0</td>\n",
       "      <td>15647</td>\n",
       "      <td>153</td>\n",
       "      <td>279.0</td>\n",
       "    </tr>\n",
       "    <tr>\n",
       "      <th>51 - 200</th>\n",
       "      <td>1799.0</td>\n",
       "      <td>2029.0</td>\n",
       "      <td>181525</td>\n",
       "      <td>197</td>\n",
       "      <td>35.0</td>\n",
       "    </tr>\n",
       "  </tbody>\n",
       "</table>\n",
       "</div>"
      ],
      "text/plain": [
       "             year founded                   country current employee estimate\n",
       "                      min     max    count <lambda>                    median\n",
       "size range                                                                   \n",
       "1 - 10             1792.0  2103.0  1707032      228                       1.0\n",
       "10001+             1800.0  2016.0     1366       56                    7556.5\n",
       "1001 - 5000        1802.0  2018.0    13632      140                     712.0\n",
       "11 - 50            1801.0  2023.0   570370      216                       8.0\n",
       "201 - 500          1801.0  2018.0    43749      171                     120.0\n",
       "5001 - 10000       1451.0  2017.0     1855       75                    2852.0\n",
       "501 - 1000         1801.0  2018.0    15647      153                     279.0\n",
       "51 - 200           1799.0  2029.0   181525      197                      35.0"
      ]
     },
     "execution_count": 19,
     "metadata": {},
     "output_type": "execute_result"
    }
   ],
   "source": [
    "pddf.groupby('size range').agg({'year founded': ['min', 'max', 'count'], 'country': lambda x: x.nunique(), 'current employee estimate': 'median'})"
   ]
  },
  {
   "cell_type": "code",
   "execution_count": 20,
   "id": "02853578",
   "metadata": {},
   "outputs": [
    {
     "name": "stdout",
     "output_type": "stream",
     "text": [
      "Summarize missing: CPU/RAM: That took : 0:00:30.536083 with GPU taking 0:00:01.035225\n"
     ]
    }
   ],
   "source": [
    "now = datetime.now()\n",
    "current_time = now.strftime(\"%H:%M:%S\")\n",
    "#print(\"End Time =\", current_time)\n",
    "elapsedConv = (now - start)\n",
    "result = \"Summarize missing: CPU/RAM: That took : \"+ str(elapsedConv) + \" with GPU taking \" + str(elapsedGPU)\n",
    "print(result)\n",
    "tests.append(result)\n"
   ]
  },
  {
   "cell_type": "code",
   "execution_count": 21,
   "id": "63d8cf30",
   "metadata": {},
   "outputs": [
    {
     "name": "stdout",
     "output_type": "stream",
     "text": [
      "CSV Read: CPU/RAM: That took : 0:00:18.167241 with GPU taking 0:00:02.148225\n",
      "Summarize missing: CPU/RAM: That took : 0:00:30.536083 with GPU taking 0:00:01.035225\n"
     ]
    }
   ],
   "source": [
    "for t in tests:\n",
    "    print(t)"
   ]
  },
  {
   "cell_type": "code",
   "execution_count": 22,
   "id": "b958d782",
   "metadata": {},
   "outputs": [
    {
     "data": {
      "text/html": [
       "<div>\n",
       "<style scoped>\n",
       "    .dataframe tbody tr th:only-of-type {\n",
       "        vertical-align: middle;\n",
       "    }\n",
       "\n",
       "    .dataframe tbody tr th {\n",
       "        vertical-align: top;\n",
       "    }\n",
       "\n",
       "    .dataframe thead tr th {\n",
       "        text-align: left;\n",
       "    }\n",
       "\n",
       "    .dataframe thead tr:last-of-type th {\n",
       "        text-align: right;\n",
       "    }\n",
       "</style>\n",
       "<table border=\"1\" class=\"dataframe\">\n",
       "  <thead>\n",
       "    <tr>\n",
       "      <th></th>\n",
       "      <th colspan=\"3\" halign=\"left\">year founded</th>\n",
       "      <th>country</th>\n",
       "      <th>current employee estimate</th>\n",
       "    </tr>\n",
       "    <tr>\n",
       "      <th></th>\n",
       "      <th>min</th>\n",
       "      <th>max</th>\n",
       "      <th>count</th>\n",
       "      <th>&lt;lambda&gt;</th>\n",
       "      <th>median</th>\n",
       "    </tr>\n",
       "    <tr>\n",
       "      <th>size range</th>\n",
       "      <th></th>\n",
       "      <th></th>\n",
       "      <th></th>\n",
       "      <th></th>\n",
       "      <th></th>\n",
       "    </tr>\n",
       "  </thead>\n",
       "  <tbody>\n",
       "    <tr>\n",
       "      <th>1 - 10</th>\n",
       "      <td>1792.0</td>\n",
       "      <td>2022.0</td>\n",
       "      <td>1707029</td>\n",
       "      <td>228</td>\n",
       "      <td>1.0</td>\n",
       "    </tr>\n",
       "    <tr>\n",
       "      <th>10001+</th>\n",
       "      <td>1800.0</td>\n",
       "      <td>2016.0</td>\n",
       "      <td>1366</td>\n",
       "      <td>56</td>\n",
       "      <td>7556.5</td>\n",
       "    </tr>\n",
       "    <tr>\n",
       "      <th>1001 - 5000</th>\n",
       "      <td>1802.0</td>\n",
       "      <td>2018.0</td>\n",
       "      <td>13632</td>\n",
       "      <td>140</td>\n",
       "      <td>712.0</td>\n",
       "    </tr>\n",
       "    <tr>\n",
       "      <th>11 - 50</th>\n",
       "      <td>1801.0</td>\n",
       "      <td>2022.0</td>\n",
       "      <td>570369</td>\n",
       "      <td>216</td>\n",
       "      <td>8.0</td>\n",
       "    </tr>\n",
       "    <tr>\n",
       "      <th>201 - 500</th>\n",
       "      <td>1801.0</td>\n",
       "      <td>2018.0</td>\n",
       "      <td>43749</td>\n",
       "      <td>171</td>\n",
       "      <td>120.0</td>\n",
       "    </tr>\n",
       "    <tr>\n",
       "      <th>5001 - 10000</th>\n",
       "      <td>1451.0</td>\n",
       "      <td>2017.0</td>\n",
       "      <td>1855</td>\n",
       "      <td>75</td>\n",
       "      <td>2852.0</td>\n",
       "    </tr>\n",
       "    <tr>\n",
       "      <th>501 - 1000</th>\n",
       "      <td>1801.0</td>\n",
       "      <td>2018.0</td>\n",
       "      <td>15647</td>\n",
       "      <td>153</td>\n",
       "      <td>279.0</td>\n",
       "    </tr>\n",
       "    <tr>\n",
       "      <th>51 - 200</th>\n",
       "      <td>1799.0</td>\n",
       "      <td>2018.0</td>\n",
       "      <td>181524</td>\n",
       "      <td>197</td>\n",
       "      <td>35.0</td>\n",
       "    </tr>\n",
       "  </tbody>\n",
       "</table>\n",
       "</div>"
      ],
      "text/plain": [
       "             year founded                   country current employee estimate\n",
       "                      min     max    count <lambda>                    median\n",
       "size range                                                                   \n",
       "1 - 10             1792.0  2022.0  1707029      228                       1.0\n",
       "10001+             1800.0  2016.0     1366       56                    7556.5\n",
       "1001 - 5000        1802.0  2018.0    13632      140                     712.0\n",
       "11 - 50            1801.0  2022.0   570369      216                       8.0\n",
       "201 - 500          1801.0  2018.0    43749      171                     120.0\n",
       "5001 - 10000       1451.0  2017.0     1855       75                    2852.0\n",
       "501 - 1000         1801.0  2018.0    15647      153                     279.0\n",
       "51 - 200           1799.0  2018.0   181524      197                      35.0"
      ]
     },
     "execution_count": 22,
     "metadata": {},
     "output_type": "execute_result"
    }
   ],
   "source": [
    "df = df[df['year founded'] < 2023].copy()\n",
    "pddf = pddf[pddf['year founded'] < 2023].copy()\n",
    "pddf.groupby('size range').agg({'year founded': ['min', 'max', 'count'], 'country': lambda x: x.nunique(), 'current employee estimate': 'median'})"
   ]
  },
  {
   "cell_type": "code",
   "execution_count": 23,
   "id": "4e570f4b",
   "metadata": {},
   "outputs": [
    {
     "data": {
      "text/html": [
       "<div>\n",
       "<style scoped>\n",
       "    .dataframe tbody tr th:only-of-type {\n",
       "        vertical-align: middle;\n",
       "    }\n",
       "\n",
       "    .dataframe tbody tr th {\n",
       "        vertical-align: top;\n",
       "    }\n",
       "\n",
       "    .dataframe thead tr th {\n",
       "        text-align: left;\n",
       "    }\n",
       "\n",
       "    .dataframe thead tr:last-of-type th {\n",
       "        text-align: right;\n",
       "    }\n",
       "</style>\n",
       "<table border=\"1\" class=\"dataframe\">\n",
       "  <thead>\n",
       "    <tr>\n",
       "      <th></th>\n",
       "      <th colspan=\"3\" halign=\"left\">year founded</th>\n",
       "      <th>country</th>\n",
       "      <th>current employee estimate</th>\n",
       "    </tr>\n",
       "    <tr>\n",
       "      <th></th>\n",
       "      <th>min</th>\n",
       "      <th>max</th>\n",
       "      <th>count</th>\n",
       "      <th>&lt;lambda&gt;</th>\n",
       "      <th>median</th>\n",
       "    </tr>\n",
       "    <tr>\n",
       "      <th>size range</th>\n",
       "      <th></th>\n",
       "      <th></th>\n",
       "      <th></th>\n",
       "      <th></th>\n",
       "      <th></th>\n",
       "    </tr>\n",
       "  </thead>\n",
       "  <tbody>\n",
       "    <tr>\n",
       "      <th>1 - 10</th>\n",
       "      <td>1792.0</td>\n",
       "      <td>2022.0</td>\n",
       "      <td>1707029</td>\n",
       "      <td>228</td>\n",
       "      <td>1.0</td>\n",
       "    </tr>\n",
       "    <tr>\n",
       "      <th>10001+</th>\n",
       "      <td>1800.0</td>\n",
       "      <td>2016.0</td>\n",
       "      <td>1366</td>\n",
       "      <td>56</td>\n",
       "      <td>7556.5</td>\n",
       "    </tr>\n",
       "    <tr>\n",
       "      <th>1001 - 5000</th>\n",
       "      <td>1802.0</td>\n",
       "      <td>2018.0</td>\n",
       "      <td>13632</td>\n",
       "      <td>140</td>\n",
       "      <td>712.0</td>\n",
       "    </tr>\n",
       "    <tr>\n",
       "      <th>11 - 50</th>\n",
       "      <td>1801.0</td>\n",
       "      <td>2022.0</td>\n",
       "      <td>570369</td>\n",
       "      <td>216</td>\n",
       "      <td>8.0</td>\n",
       "    </tr>\n",
       "    <tr>\n",
       "      <th>201 - 500</th>\n",
       "      <td>1801.0</td>\n",
       "      <td>2018.0</td>\n",
       "      <td>43749</td>\n",
       "      <td>171</td>\n",
       "      <td>120.0</td>\n",
       "    </tr>\n",
       "    <tr>\n",
       "      <th>5001 - 10000</th>\n",
       "      <td>1451.0</td>\n",
       "      <td>2017.0</td>\n",
       "      <td>1855</td>\n",
       "      <td>75</td>\n",
       "      <td>2852.0</td>\n",
       "    </tr>\n",
       "    <tr>\n",
       "      <th>501 - 1000</th>\n",
       "      <td>1801.0</td>\n",
       "      <td>2018.0</td>\n",
       "      <td>15647</td>\n",
       "      <td>153</td>\n",
       "      <td>279.0</td>\n",
       "    </tr>\n",
       "    <tr>\n",
       "      <th>51 - 200</th>\n",
       "      <td>1799.0</td>\n",
       "      <td>2018.0</td>\n",
       "      <td>181524</td>\n",
       "      <td>197</td>\n",
       "      <td>35.0</td>\n",
       "    </tr>\n",
       "  </tbody>\n",
       "</table>\n",
       "</div>"
      ],
      "text/plain": [
       "             year founded                   country current employee estimate\n",
       "                      min     max    count <lambda>                    median\n",
       "size range                                                                   \n",
       "1 - 10             1792.0  2022.0  1707029      228                       1.0\n",
       "10001+             1800.0  2016.0     1366       56                    7556.5\n",
       "1001 - 5000        1802.0  2018.0    13632      140                     712.0\n",
       "11 - 50            1801.0  2022.0   570369      216                       8.0\n",
       "201 - 500          1801.0  2018.0    43749      171                     120.0\n",
       "5001 - 10000       1451.0  2017.0     1855       75                    2852.0\n",
       "501 - 1000         1801.0  2018.0    15647      153                     279.0\n",
       "51 - 200           1799.0  2018.0   181524      197                      35.0"
      ]
     },
     "execution_count": 23,
     "metadata": {},
     "output_type": "execute_result"
    }
   ],
   "source": [
    "df.groupby('size range').agg({'year founded': ['min', 'max', 'count'], 'country': lambda x: x.nunique(), 'current employee estimate': 'median'})"
   ]
  },
  {
   "cell_type": "code",
   "execution_count": 24,
   "id": "4b3d3fac",
   "metadata": {},
   "outputs": [
    {
     "data": {
      "text/plain": [
       "<AxesSubplot:xlabel='size range'>"
      ]
     },
     "execution_count": 24,
     "metadata": {},
     "output_type": "execute_result"
    },
    {
     "data": {
      "image/png": "[encoded data removed]",
      "text/plain": [
       "<Figure size 640x480 with 1 Axes>"
      ]
     },
     "metadata": {},
     "output_type": "display_data"
    }
   ],
   "source": [
    "pddf.plot(x=\"size range\", y=\"year founded\")"
   ]
  },
  {
   "cell_type": "code",
   "execution_count": 25,
   "id": "a61aca70",
   "metadata": {},
   "outputs": [
    {
     "data": {
      "text/plain": [
       "<AxesSubplot:xlabel='size range'>"
      ]
     },
     "execution_count": 25,
     "metadata": {},
     "output_type": "execute_result"
    },
    {
     "data": {
      "image/png": "[encoded data removed]",
      "text/plain": [
       "<Figure size 640x480 with 1 Axes>"
      ]
     },
     "metadata": {},
     "output_type": "display_data"
    }
   ],
   "source": [
    "df.to_pandas().plot(x=\"size range\", y=\"year founded\")"
   ]
  },
  {
   "cell_type": "code",
   "execution_count": 26,
   "id": "dbe29430",
   "metadata": {},
   "outputs": [],
   "source": [
    "del pddf\n",
    "del df"
   ]
  },
  {
   "cell_type": "code",
   "execution_count": null,
   "id": "475e9ffd",
   "metadata": {},
   "outputs": [],
   "source": []
  }
 ],
 "metadata": {
  "kernelspec": {
   "display_name": "Python 3 (ipykernel)",
   "language": "python",
   "name": "python3"
  },
  "language_info": {
   "codemirror_mode": {
    "name": "ipython",
    "version": 3
   },
   "file_extension": ".py",
   "mimetype": "text/x-python",
   "name": "python",
   "nbconvert_exporter": "python",
   "pygments_lexer": "ipython3",
   "version": "3.8.13"
  }
 },
 "nbformat": 4,
 "nbformat_minor": 5
}
